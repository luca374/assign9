{
 "cells": [
  {
   "cell_type": "code",
   "execution_count": null,
   "metadata": {},
   "outputs": [
    {
     "name": "stdout",
     "output_type": "stream",
     "text": [
      " * Serving Flask app \"__main__\" (lazy loading)\n",
      " * Environment: production\n",
      "   WARNING: This is a development server. Do not use it in a production deployment.\n",
      "   Use a production WSGI server instead.\n",
      " * Debug mode: off\n"
     ]
    },
    {
     "name": "stderr",
     "output_type": "stream",
     "text": [
      " * Running on http://localhost:9088/ (Press CTRL+C to quit)\n",
      "127.0.0.1 - - [24/Oct/2021 00:26:47] \"\u001b[32mGET / HTTP/1.1\u001b[0m\" 302 -\n",
      "127.0.0.1 - - [24/Oct/2021 00:26:47] \"\u001b[37mGET /form HTTP/1.1\u001b[0m\" 200 -\n",
      "127.0.0.1 - - [24/Oct/2021 00:26:54] \"\u001b[37mPOST /form HTTP/1.1\u001b[0m\" 200 -\n"
     ]
    }
   ],
   "source": [
    "from flask import Flask, render_template, redirect, url_for\n",
    "from flask_wtf import FlaskForm\n",
    "from wtforms import StringField, PasswordField, SubmitField\n",
    "from wtforms.validators import DataRequired\n",
    "\n",
    "app = Flask(__name__)\n",
    "app.config['SECRET_KEY'] = 'thisisasecret'\n",
    "\n",
    "class LoginForm(FlaskForm):\n",
    "    username = StringField('Username')\n",
    "    password = PasswordField('Password')\n",
    "    submit = SubmitField('Login')\n",
    "\n",
    "@app.route('/')\n",
    "def home():\n",
    "    return redirect(url_for('form'))\n",
    "    \n",
    "@app.route('/form',methods=[\"POST\",\"GET\"])\n",
    "def form():\n",
    "    form = LoginForm()\n",
    "    # if form.is_submitted():\n",
    "    #    result = request.form\n",
    "    #    print(result)\n",
    "    #    return \"<h1>The username is {}. The password is {}.\".format(form.username.data, form.password.data) \n",
    "    return render_template('form.html',form=form, username=form.username.data)\n",
    "\n",
    "\n",
    "if __name__ == '__main__':\n",
    "    app.run('localhost', 9088)"
   ]
  },
  {
   "cell_type": "code",
   "execution_count": null,
   "metadata": {},
   "outputs": [],
   "source": []
  }
 ],
 "metadata": {
  "kernelspec": {
   "display_name": "Python 3",
   "language": "python",
   "name": "python3"
  },
  "language_info": {
   "codemirror_mode": {
    "name": "ipython",
    "version": 3
   },
   "file_extension": ".py",
   "mimetype": "text/x-python",
   "name": "python",
   "nbconvert_exporter": "python",
   "pygments_lexer": "ipython3",
   "version": "3.7.3"
  }
 },
 "nbformat": 4,
 "nbformat_minor": 2
}
