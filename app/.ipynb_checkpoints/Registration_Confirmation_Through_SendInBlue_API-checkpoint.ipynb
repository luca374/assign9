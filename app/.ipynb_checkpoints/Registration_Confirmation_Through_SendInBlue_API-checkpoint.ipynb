{
 "cells": [
  {
   "cell_type": "code",
   "execution_count": null,
   "metadata": {},
   "outputs": [
    {
     "name": "stderr",
     "output_type": "stream",
     "text": [
      " * Running on http://localhost:9022/ (Press CTRL+C to quit)\n",
      "127.0.0.1 - - [01/Nov/2021 07:25:36] \"\u001b[37mGET / HTTP/1.1\u001b[0m\" 200 -\n",
      "127.0.0.1 - - [01/Nov/2021 07:25:50] \"\u001b[37mPOST / HTTP/1.1\u001b[0m\" 200 -\n"
     ]
    },
    {
     "name": "stdout",
     "output_type": "stream",
     "text": [
      "{'message_id': '<202111010025.16990004736@smtp-relay.mailin.fr>',\n",
      " 'message_ids': None}\n"
     ]
    },
    {
     "name": "stderr",
     "output_type": "stream",
     "text": [
      "127.0.0.1 - - [01/Nov/2021 07:26:57] \"\u001b[37mGET /confirm_email/InN1cHBvcnRAaW50ZWNobmlnZW5jZS5jb20i.YX8l_Q.HAjw3Y_omOMRt_K89EI1plPyeV4 HTTP/1.1\u001b[0m\" 200 -\n"
     ]
    }
   ],
   "source": [
    "from flask import Flask, request, url_for\n",
    "from itsdangerous import URLSafeTimedSerializer, SignatureExpired\n",
    "import sib_api_v3_sdk\n",
    "from sib_api_v3_sdk.rest import ApiException\n",
    "\n",
    "app = Flask(__name__)\n",
    "\n",
    "s = URLSafeTimedSerializer('Thisisasecret!')\n",
    "configuration = sib_api_v3_sdk.Configuration()\n",
    "configuration.api_key['api-key'] = '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'\n",
    "\n",
    "@app.route('/', methods=['GET', 'POST'])\n",
    "def index():\n",
    "    if request.method == 'GET':\n",
    "        return '<form action=\"/\" method=\"POST\"><input name=\"email\" placeholder=\"email\"><input name=\"username\" placeholder=\"username\"><input type=\"submit\"></form>'\n",
    "    email = request.form['email']\n",
    "    username = request.form['username']\n",
    "    token = s.dumps(email, salt='email-confirm')\n",
    "    link = url_for('confirm_email', token=token, _external=True)\n",
    "    api_instance = sib_api_v3_sdk.TransactionalEmailsApi(sib_api_v3_sdk.ApiClient(configuration))\n",
    "    subject = \"Registration Confirmation\"\n",
    "    sender = {\"name\":\"com5961\",\"email\":\"b103890@gocuhk.mail.onmicrosoft.com\"}\n",
    "    reply_to= {\"name\":\"com5961\",\"email\":\"bernard@cuhk.edu.hk\"}\n",
    "    html_content = \"<html><body><h1>Click the link to confirm your registration:</h1>\"+link+\"</body></html>\"\n",
    "    to = [{\"email\":email,\"name\":username}]\n",
    "    params = {\"parameter\":\"My param value\",\"subject\":\"API Test\"}\n",
    "    send_smtp_email = sib_api_v3_sdk.SendSmtpEmail(to=to, reply_to=reply_to, html_content=html_content, sender=sender, subject=subject)\n",
    " \n",
    "    try:\n",
    "        api_response = api_instance.send_transac_email(send_smtp_email)\n",
    "        print(api_response)\n",
    "    except ApiException as e:\n",
    "        print(\"Exception when calling SMTPApi->send_transac_email: %s\\n\" % e)\n",
    "\n",
    "    return '<h1>The email you entered is {}. The token is {}</h1>'.format(email, token)\n",
    "\n",
    "@app.route('/confirm_email/<token>')\n",
    "def confirm_email(token):\n",
    "    try:\n",
    "        email = s.loads(token, salt='email-confirm', max_age=3600)\n",
    "    except SignatureExpired:\n",
    "        return '<h1>The token is expired!</h1>'\n",
    "    return '<h1>The token works!</h1>'\n",
    "\n",
    "if __name__ == '__main__':\n",
    "    from werkzeug.serving import run_simple\n",
    "    run_simple('localhost', 9022, app)"
   ]
  },
  {
   "cell_type": "code",
   "execution_count": null,
   "metadata": {},
   "outputs": [],
   "source": []
  }
 ],
 "metadata": {
  "kernelspec": {
   "display_name": "Python 3",
   "language": "python",
   "name": "python3"
  },
  "language_info": {
   "codemirror_mode": {
    "name": "ipython",
    "version": 3
   },
   "file_extension": ".py",
   "mimetype": "text/x-python",
   "name": "python",
   "nbconvert_exporter": "python",
   "pygments_lexer": "ipython3",
   "version": "3.7.3"
  }
 },
 "nbformat": 4,
 "nbformat_minor": 2
}
